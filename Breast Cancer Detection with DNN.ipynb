{
  "cells": [
    {
      "cell_type": "markdown",
      "metadata": {
        "id": "Gh39ixOv474r"
      },
      "source": [
        "# Breast Cancer Detection using k-fold Cross-Validation"
      ]
    },
    {
      "cell_type": "markdown",
      "metadata": {
        "id": "kIXrvGag3zVE"
      },
      "source": [
        "# Import Necessary Libraries"
      ]
    },
    {
      "cell_type": "code",
      "execution_count": null,
      "metadata": {
        "id": "3_LRk1Eg0QL0"
      },
      "outputs": [],
      "source": [
        "# Import Necessary Libraries\n",
        "import numpy as np\n",
        "import pandas as pd\n",
        "import matplotlib.pyplot as plt\n",
        "from sklearn.model_selection import KFold\n",
        "from sklearn.preprocessing import StandardScaler\n",
        "from tensorflow.keras.models import Sequential\n",
        "from tensorflow.keras.layers import Dense, Dropout\n",
        "from tensorflow.keras.optimizers import Adam\n",
        "from sklearn.metrics import accuracy_score"
      ]
    },
    {
      "cell_type": "markdown",
      "metadata": {
        "id": "7XMdE-yi4CpW"
      },
      "source": [
        "# Load the dataset"
      ]
    },
    {
      "cell_type": "code",
      "execution_count": null,
      "metadata": {
        "id": "f0RS0-9U4E3t"
      },
      "outputs": [],
      "source": [
        "# Load the Breast Cancer dataset\n",
        "url = \"https://archive.ics.uci.edu/ml/machine-learning-databases/breast-cancer-wisconsin/wdbc.data\"\n",
        "columns = ['ID', 'Diagnosis'] + [f'Feature_{i}' for i in range(1, 31)]\n",
        "data = pd.read_csv(url, header=None, names=columns)"
      ]
    },
    {
      "cell_type": "markdown",
      "metadata": {
        "id": "QDbJmJop4LpI"
      },
      "source": [
        "# Data Preprocessing"
      ]
    },
    {
      "cell_type": "code",
      "execution_count": null,
      "metadata": {
        "id": "VHRARUv84OQU"
      },
      "outputs": [],
      "source": [
        "# Drop the ID column\n",
        "data = data.drop(columns=['ID'])\n",
        "\n",
        "# Map target variable 'Diagnosis' to binary values (M = 1, B = 0)\n",
        "data['Diagnosis'] = data['Diagnosis'].map({'M': 1, 'B': 0})\n",
        "\n",
        "# Features (input) and target (output)\n",
        "features = data.drop(columns=['Diagnosis'])\n",
        "target = data['Diagnosis']"
      ]
    },
    {
      "cell_type": "markdown",
      "metadata": {
        "id": "YsPOQkjA4WY2"
      },
      "source": [
        "# Feature scaling"
      ]
    },
    {
      "cell_type": "code",
      "execution_count": null,
      "metadata": {
        "id": "B6JmcVUw4X9d"
      },
      "outputs": [],
      "source": [
        "# Feature scaling\n",
        "scaler = StandardScaler()\n",
        "features = scaler.fit_transform(features)"
      ]
    },
    {
      "cell_type": "markdown",
      "metadata": {
        "id": "3w7TuOMT4abT"
      },
      "source": [
        "# Define a function to build the DNN model"
      ]
    },
    {
      "cell_type": "code",
      "execution_count": null,
      "metadata": {
        "id": "5gKWkoDb4ecy"
      },
      "outputs": [],
      "source": [
        "def build_model():\n",
        "    model = Sequential()\n",
        "    model.add(Dense(64, input_dim=features.shape[1], activation='relu'))\n",
        "    model.add(Dropout(0.3))  # Dropout with 30% rate\n",
        "    model.add(Dense(32, activation='relu'))\n",
        "    model.add(Dropout(0.2))  # Dropout with 20% rate\n",
        "    model.add(Dense(16, activation='relu'))\n",
        "    model.add(Dropout(0.2))\n",
        "    model.add(Dense(8, activation='relu'))\n",
        "    model.add(Dropout(0.2))\n",
        "    model.add(Dense(1, activation='sigmoid'))  # Output layer for binary classification\n",
        "    model.compile(loss='binary_crossentropy', optimizer=Adam(learning_rate=0.001), metrics=['accuracy'])\n",
        "    return model"
      ]
    },
    {
      "cell_type": "markdown",
      "metadata": {
        "id": "BpnO4ZKG4iee"
      },
      "source": [
        "# Set up K-fold cross-validation"
      ]
    },
    {
      "cell_type": "code",
      "execution_count": null,
      "metadata": {
        "id": "B-8iLplF4jLl"
      },
      "outputs": [],
      "source": [
        "kfold = KFold(n_splits=5, shuffle=True, random_state=42)\n",
        "fold_no = 1\n",
        "histories = []\n",
        "accuracies = []"
      ]
    },
    {
      "cell_type": "markdown",
      "metadata": {
        "id": "oW2T3B--4nxf"
      },
      "source": [
        "# Train and validate the model using 5-fold cross-validation"
      ]
    },
    {
      "cell_type": "code",
      "execution_count": null,
      "metadata": {
        "colab": {
          "base_uri": "https://localhost:8080/"
        },
        "id": "Cjkap_2a4oYh",
        "outputId": "940a4d30-8e2d-473b-c669-9ab8fa4cce4a"
      },
      "outputs": [
        {
          "name": "stderr",
          "output_type": "stream",
          "text": [
            "/usr/local/lib/python3.10/dist-packages/keras/src/layers/core/dense.py:87: UserWarning: Do not pass an `input_shape`/`input_dim` argument to a layer. When using Sequential models, prefer using an `Input(shape)` object as the first layer in the model instead.\n",
            "  super().__init__(activity_regularizer=activity_regularizer, **kwargs)\n"
          ]
        },
        {
          "name": "stdout",
          "output_type": "stream",
          "text": [
            "\u001b[1m4/4\u001b[0m \u001b[32m━━━━━━━━━━━━━━━━━━━━\u001b[0m\u001b[37m\u001b[0m \u001b[1m0s\u001b[0m 44ms/step\n",
            "Fold 1 - Accuracy: 0.9737\n"
          ]
        },
        {
          "name": "stderr",
          "output_type": "stream",
          "text": [
            "/usr/local/lib/python3.10/dist-packages/keras/src/layers/core/dense.py:87: UserWarning: Do not pass an `input_shape`/`input_dim` argument to a layer. When using Sequential models, prefer using an `Input(shape)` object as the first layer in the model instead.\n",
            "  super().__init__(activity_regularizer=activity_regularizer, **kwargs)\n"
          ]
        },
        {
          "name": "stdout",
          "output_type": "stream",
          "text": [
            "\u001b[1m4/4\u001b[0m \u001b[32m━━━━━━━━━━━━━━━━━━━━\u001b[0m\u001b[37m\u001b[0m \u001b[1m0s\u001b[0m 50ms/step\n",
            "Fold 2 - Accuracy: 0.9825\n"
          ]
        },
        {
          "name": "stderr",
          "output_type": "stream",
          "text": [
            "/usr/local/lib/python3.10/dist-packages/keras/src/layers/core/dense.py:87: UserWarning: Do not pass an `input_shape`/`input_dim` argument to a layer. When using Sequential models, prefer using an `Input(shape)` object as the first layer in the model instead.\n",
            "  super().__init__(activity_regularizer=activity_regularizer, **kwargs)\n"
          ]
        },
        {
          "name": "stdout",
          "output_type": "stream",
          "text": [
            "\u001b[1m4/4\u001b[0m \u001b[32m━━━━━━━━━━━━━━━━━━━━\u001b[0m\u001b[37m\u001b[0m \u001b[1m0s\u001b[0m 43ms/step\n",
            "Fold 3 - Accuracy: 0.9649\n"
          ]
        },
        {
          "name": "stderr",
          "output_type": "stream",
          "text": [
            "/usr/local/lib/python3.10/dist-packages/keras/src/layers/core/dense.py:87: UserWarning: Do not pass an `input_shape`/`input_dim` argument to a layer. When using Sequential models, prefer using an `Input(shape)` object as the first layer in the model instead.\n",
            "  super().__init__(activity_regularizer=activity_regularizer, **kwargs)\n"
          ]
        },
        {
          "name": "stdout",
          "output_type": "stream",
          "text": [
            "\u001b[1m4/4\u001b[0m \u001b[32m━━━━━━━━━━━━━━━━━━━━\u001b[0m\u001b[37m\u001b[0m \u001b[1m0s\u001b[0m 48ms/step\n",
            "Fold 4 - Accuracy: 0.9912\n"
          ]
        },
        {
          "name": "stderr",
          "output_type": "stream",
          "text": [
            "/usr/local/lib/python3.10/dist-packages/keras/src/layers/core/dense.py:87: UserWarning: Do not pass an `input_shape`/`input_dim` argument to a layer. When using Sequential models, prefer using an `Input(shape)` object as the first layer in the model instead.\n",
            "  super().__init__(activity_regularizer=activity_regularizer, **kwargs)\n"
          ]
        },
        {
          "name": "stdout",
          "output_type": "stream",
          "text": [
            "\u001b[1m4/4\u001b[0m \u001b[32m━━━━━━━━━━━━━━━━━━━━\u001b[0m\u001b[37m\u001b[0m \u001b[1m0s\u001b[0m 44ms/step\n",
            "Fold 5 - Accuracy: 0.9735\n"
          ]
        }
      ],
      "source": [
        "for train_index, test_index in kfold.split(features):\n",
        "    X_train, X_test = features[train_index], features[test_index]\n",
        "    y_train, y_test = target.iloc[train_index], target.iloc[test_index]\n",
        "\n",
        "    # Build the model\n",
        "    model = build_model()\n",
        "\n",
        "    # Train the model\n",
        "    history = model.fit(X_train, y_train, epochs=50, batch_size=32, verbose=0, validation_data=(X_test, y_test))\n",
        "    histories.append(history)\n",
        "\n",
        "    # Evaluate the model on the test data for the current fold\n",
        "    y_pred = (model.predict(X_test) > 0.5).astype(\"int32\")\n",
        "    accuracy = accuracy_score(y_test, y_pred)\n",
        "    accuracies.append(accuracy)\n",
        "\n",
        "    print(f\"Fold {fold_no} - Accuracy: {accuracy:.4f}\")\n",
        "    fold_no += 1"
      ]
    },
    {
      "cell_type": "markdown",
      "metadata": {
        "id": "iZOnJgaL4xKg"
      },
      "source": [
        "# Calculate and display the average accuracy across all folds"
      ]
    },
    {
      "cell_type": "code",
      "execution_count": null,
      "metadata": {
        "colab": {
          "base_uri": "https://localhost:8080/"
        },
        "id": "z9aDOBPn40aU",
        "outputId": "ba5e507d-19c0-4a2a-e470-c0b652602db5"
      },
      "outputs": [
        {
          "name": "stdout",
          "output_type": "stream",
          "text": [
            "Average Accuracy across all folds: 0.9771\n"
          ]
        }
      ],
      "source": [
        "avg_accuracy = np.mean(accuracies)\n",
        "print(f\"Average Accuracy across all folds: {avg_accuracy:.4f}\")"
      ]
    },
    {
      "cell_type": "markdown",
      "metadata": {
        "id": "pp6FPRZ245KU"
      },
      "source": [
        "# Plot training and validation accuracy and loss for the last fold"
      ]
    },
    {
      "cell_type": "code",
      "execution_count": null,
      "metadata": {
        "colab": {
          "base_uri": "https://localhost:8080/",
          "height": 507
        },
        "id": "0gAaZrwF47zy",
        "outputId": "b8a87987-f921-4a8a-d994-a95f5cae19ab"
      },
      "outputs": [
        {
          "data": {
            "image/png": "[encoded data removed]",
            "text/plain": [
              "<Figure size 1200x500 with 2 Axes>"
            ]
          },
          "metadata": {},
          "output_type": "display_data"
        }
      ],
      "source": [
        "plt.figure(figsize=(12, 5))\n",
        "\n",
        "# Plot accuracy\n",
        "plt.subplot(1, 2, 1)\n",
        "plt.plot(histories[-1].history['accuracy'], label='Training Accuracy')\n",
        "plt.plot(histories[-1].history['val_accuracy'], label='Validation Accuracy')\n",
        "plt.title('Training and Validation Accuracy (Last Fold)')\n",
        "plt.xlabel('Epochs')\n",
        "plt.ylabel('Accuracy')\n",
        "plt.legend()\n",
        "\n",
        "# Plot loss\n",
        "plt.subplot(1, 2, 2)\n",
        "plt.plot(histories[-1].history['loss'], label='Training Loss')\n",
        "plt.plot(histories[-1].history['val_loss'], label='Validation Loss')\n",
        "plt.title('Training and Validation Loss (Last Fold)')\n",
        "plt.xlabel('Epochs')\n",
        "plt.ylabel('Loss')\n",
        "plt.legend()\n",
        "\n",
        "plt.tight_layout()\n",
        "plt.show()"
      ]
    },
    {
      "cell_type": "markdown",
      "metadata": {
        "id": "wUca-UCRB3tz"
      },
      "source": [
        "## Last Fold Metrics:\n",
        "\n",
        "- The training and validation accuracy for the last fold closely converged, demonstrating strong generalization.\n",
        "\n",
        "- Validation loss stabilized after early epochs, further confirming the model's ability to generalize well without overfitting."
      ]
    },
    {
      "cell_type": "markdown",
      "metadata": {
        "id": "eTLF0K9K5DQd"
      },
      "source": [
        "# Save the model from the last fold"
      ]
    },
    {
      "cell_type": "code",
      "execution_count": null,
      "metadata": {
        "colab": {
          "base_uri": "https://localhost:8080/"
        },
        "id": "6A9HEru45EGZ",
        "outputId": "974baa20-6a92-4324-fb92-ecd51632aec0"
      },
      "outputs": [
        {
          "name": "stderr",
          "output_type": "stream",
          "text": [
            "WARNING:absl:You are saving your model as an HDF5 file via `model.save()` or `keras.saving.save_model(model)`. This file format is considered legacy. We recommend using instead the native Keras format, e.g. `model.save('my_model.keras')` or `keras.saving.save_model(model, 'my_model.keras')`. \n"
          ]
        }
      ],
      "source": [
        "model.save('breast_cancer_model_cv.h5')"
      ]
    },
    {
      "cell_type": "markdown",
      "metadata": {
        "id": "ZEwp9rdj5GaF"
      },
      "source": [
        "# Make predictions on a sample input from the last fold's model"
      ]
    },
    {
      "cell_type": "code",
      "execution_count": null,
      "metadata": {
        "colab": {
          "base_uri": "https://localhost:8080/"
        },
        "id": "eCZYw0_75JWf",
        "outputId": "b4be59d0-9205-45ff-de64-74cd194c2551"
      },
      "outputs": [
        {
          "name": "stderr",
          "output_type": "stream",
          "text": [
            "/usr/local/lib/python3.10/dist-packages/sklearn/base.py:493: UserWarning: X does not have valid feature names, but StandardScaler was fitted with feature names\n",
            "  warnings.warn(\n"
          ]
        },
        {
          "name": "stdout",
          "output_type": "stream",
          "text": [
            "\u001b[1m1/1\u001b[0m \u001b[32m━━━━━━━━━━━━━━━━━━━━\u001b[0m\u001b[37m\u001b[0m \u001b[1m0s\u001b[0m 167ms/step\n",
            "Sample Prediction (Malignancy Probability): 1.0000\n",
            "Predicted Class (0: Benign, 1: Malignant): 1\n"
          ]
        }
      ],
      "source": [
        "sample_input = np.array([[17.99, 10.38, 122.8, 1001.0, 0.1184, 0.2776, 0.3001, 0.1471, 0.2419, 0.07871,\n",
        "                          1.095, 0.9053, 8.589, 153.4, 0.006399, 0.04904, 0.05373, 0.01587, 0.03003, 0.006193,\n",
        "                          25.38, 17.33, 184.6, 2019.0, 0.1622, 0.6656, 0.7119, 0.2654, 0.4601, 0.1189]])  # Example input\n",
        "sample_input = scaler.transform(sample_input)  # Scale the sample input\n",
        "prediction = model.predict(sample_input)\n",
        "print(f\"Sample Prediction (Malignancy Probability): {prediction[0][0]:.4f}\")\n",
        "\n",
        "# Convert probability to binary output\n",
        "print(\"Predicted Class (0: Benign, 1: Malignant):\", int(prediction[0][0] > 0.5))"
      ]
    },
    {
      "cell_type": "markdown",
      "metadata": {
        "id": "u3kDlt9aCDhR"
      },
      "source": [
        "## Prediction Example:\n",
        "\n",
        "- On a sample input, the model predicted a malignancy probability of 1.0000, classifying the case as malignant, which aligns with its high accuracy and reliable performance."
      ]
    },
    {
      "cell_type": "markdown",
      "metadata": {
        "id": "Q6Lzoui9CMUE"
      },
      "source": [
        "# Conclusion for the Breast Cancer Classification Project:\n",
        "\n",
        "## Model Performance:\n",
        "\n",
        "- The use of *dropout* layers improved regularization, reducing the risk of overfitting despite the model's high complexity.\n",
        "- Features were standardized using *StandardScaler*, ensuring effective training by maintaining numerical stability.\n",
        "- The model demonstrated excellent performance during training and validation using *5-fold cross-validation*.\n",
        "- Average accuracy across all folds was *97.71%*, indicating the model is highly effective at distinguishing between malignant and benign cases.\n",
        "- The high accuracy and low validation loss demonstrate that the model captures key patterns in the data effectively.\n",
        "- Cross-validation results show consistency, validating the robustness of the model across different data splits."
      ]
    }
  ],
  "metadata": {
    "accelerator": "GPU",
    "colab": {
      "gpuType": "T4",
      "provenance": []
    },
    "kernelspec": {
      "display_name": "Python 3",
      "name": "python3"
    },
    "language_info": {
      "name": "python"
    }
  },
  "nbformat": 4,
  "nbformat_minor": 0
}
